{
 "cells": [
  {
   "cell_type": "markdown",
   "metadata": {},
   "source": [
    "# Lab: Transfer Learning\n",
    "\n",
    "Welcome to the lab on Transfer Learning! Here, you'll get a chance to try out training a network with ImageNet pre-trained weights as a base, but with additional network layers of your own added on. You'll also get to see the difference between using frozen weights and training on all layers.\n",
    "\n",
    "### GPU usage\n",
    "In our previous examples in this lesson, we've avoided using GPU, but this time around you'll have the option to enable it. You do not need it on to begin with, but make sure anytime you switch from non-GPU to GPU, or vice versa, that you save your notebook! If not, you'll likely be reverted to the previous checkpoint. \n",
    "\n",
    "We also suggest only using the GPU when performing the (mostly minor) training below - you'll want to conserve GPU hours for your Behavioral Cloning project coming up next!"
   ]
  },
  {
   "cell_type": "code",
   "execution_count": 7,
   "metadata": {
    "tags": []
   },
   "outputs": [],
   "source": [
    "# Set a couple flags for training - you can ignore these for now\n",
    "freeze_flag = True  # `True` to freeze layers, `False` for full training\n",
    "weights_flag = 'imagenet' # 'imagenet' or None\n",
    "preprocess_flag = True # Should be true for ImageNet pre-trained typically\n",
    "\n",
    "# Loads in InceptionV3\n",
    "from keras.applications.inception_v3 import InceptionV3\n",
    "\n",
    "# We can use smaller than the default 299x299x3 input for InceptionV3\n",
    "# which will speed up training. Keras v2.0.9 supports down to 139x139x3\n",
    "input_size = 139\n",
    "\n",
    "# Using Inception with ImageNet pre-trained weights\n",
    "inception = InceptionV3(weights=weights_flag, include_top=False,\n",
    "                        input_shape=(input_size,input_size,3))"
   ]
  },
  {
   "cell_type": "markdown",
   "metadata": {},
   "source": [
    "We'll use Inception V3 for this lab, although you can use the same techniques with any of the models in [Keras Applications](https://keras.io/applications/). Do note that certain models are only available in certain versions of Keras; this workspace uses Keras v2.0.9, for which you can see the available models [here](https://faroit.github.io/keras-docs/2.0.9/applications/).\n",
    "\n",
    "In the above, we've set Inception to use an `input_shape` of 139x139x3 instead of the default 299x299x3. This will help us to speed up our training a bit later (and we'll actually be upsampling from smaller images, so we aren't losing data here). In order to do so, we also must set `include_top` to `False`, which means the final fully-connected layer with 1,000 nodes for each ImageNet class is dropped, as well as a Global Average Pooling layer.\n",
    "\n",
    "### Pre-trained with frozen weights\n",
    "To start, we'll see how an ImageNet pre-trained model with all weights frozen in the InceptionV3 model performs. We will also drop the end layer and append new layers onto it, although you could do this in different ways (not drop the end and add new layers, drop more layers than we will here, etc.).\n",
    "\n",
    "You can freeze layers by setting `layer.trainable` to False for a given `layer`. Within a `model`, you can get the list of layers with `model.layers`."
   ]
  },
  {
   "cell_type": "code",
   "execution_count": 8,
   "metadata": {},
   "outputs": [],
   "source": [
    "if freeze_flag == True:\n",
    "    ## TODO: Iterate through the layers of the Inception model\n",
    "    ##       loaded above and set all of them to have trainable = False\n",
    "    for layer in inception.layers:\n",
    "        layer.trainable = False"
   ]
  },
  {
   "cell_type": "markdown",
   "metadata": {},
   "source": [
    "### Dropping layers\n",
    "You can drop layers from a model with `model.layers.pop()`. Before you do this, you should check out what the actual layers of the model are with Keras's `.summary()` function."
   ]
  },
  {
   "cell_type": "code",
   "execution_count": 9,
   "metadata": {
    "tags": [
     "outputPrepend"
    ]
   },
   "outputs": [
    {
     "output_type": "stream",
     "name": "stdout",
     "text": "[0][0]                 \n__________________________________________________________________________________________________\nactivation_150 (Activation)     (None, 7, 7, 160)    0           batch_normalization_150[0][0]    \n__________________________________________________________________________________________________\nconv2d_146 (Conv2D)             (None, 7, 7, 160)    122880      mixed5[0][0]                     \n__________________________________________________________________________________________________\nconv2d_151 (Conv2D)             (None, 7, 7, 160)    179200      activation_150[0][0]             \n__________________________________________________________________________________________________\nbatch_normalization_146 (BatchN (None, 7, 7, 160)    480         conv2d_146[0][0]                 \n__________________________________________________________________________________________________\nbatch_normalization_151 (BatchN (None, 7, 7, 160)    480         conv2d_151[0][0]                 \n__________________________________________________________________________________________________\nactivation_146 (Activation)     (None, 7, 7, 160)    0           batch_normalization_146[0][0]    \n__________________________________________________________________________________________________\nactivation_151 (Activation)     (None, 7, 7, 160)    0           batch_normalization_151[0][0]    \n__________________________________________________________________________________________________\nconv2d_147 (Conv2D)             (None, 7, 7, 160)    179200      activation_146[0][0]             \n__________________________________________________________________________________________________\nconv2d_152 (Conv2D)             (None, 7, 7, 160)    179200      activation_151[0][0]             \n__________________________________________________________________________________________________\nbatch_normalization_147 (BatchN (None, 7, 7, 160)    480         conv2d_147[0][0]                 \n__________________________________________________________________________________________________\nbatch_normalization_152 (BatchN (None, 7, 7, 160)    480         conv2d_152[0][0]                 \n__________________________________________________________________________________________________\nactivation_147 (Activation)     (None, 7, 7, 160)    0           batch_normalization_147[0][0]    \n__________________________________________________________________________________________________\nactivation_152 (Activation)     (None, 7, 7, 160)    0           batch_normalization_152[0][0]    \n__________________________________________________________________________________________________\naverage_pooling2d_15 (AveragePo (None, 7, 7, 768)    0           mixed5[0][0]                     \n__________________________________________________________________________________________________\nconv2d_145 (Conv2D)             (None, 7, 7, 192)    147456      mixed5[0][0]                     \n__________________________________________________________________________________________________\nconv2d_148 (Conv2D)             (None, 7, 7, 192)    215040      activation_147[0][0]             \n__________________________________________________________________________________________________\nconv2d_153 (Conv2D)             (None, 7, 7, 192)    215040      activation_152[0][0]             \n__________________________________________________________________________________________________\nconv2d_154 (Conv2D)             (None, 7, 7, 192)    147456      average_pooling2d_15[0][0]       \n__________________________________________________________________________________________________\nbatch_normalization_145 (BatchN (None, 7, 7, 192)    576         conv2d_145[0][0]                 \n__________________________________________________________________________________________________\nbatch_normalization_148 (BatchN (None, 7, 7, 192)    576         conv2d_148[0][0]                 \n__________________________________________________________________________________________________\nbatch_normalization_153 (BatchN (None, 7, 7, 192)    576         conv2d_153[0][0]                 \n__________________________________________________________________________________________________\nbatch_normalization_154 (BatchN (None, 7, 7, 192)    576         conv2d_154[0][0]                 \n__________________________________________________________________________________________________\nactivation_145 (Activation)     (None, 7, 7, 192)    0           batch_normalization_145[0][0]    \n__________________________________________________________________________________________________\nactivation_148 (Activation)     (None, 7, 7, 192)    0           batch_normalization_148[0][0]    \n__________________________________________________________________________________________________\nactivation_153 (Activation)     (None, 7, 7, 192)    0           batch_normalization_153[0][0]    \n__________________________________________________________________________________________________\nactivation_154 (Activation)     (None, 7, 7, 192)    0           batch_normalization_154[0][0]    \n__________________________________________________________________________________________________\nmixed6 (Concatenate)            (None, 7, 7, 768)    0           activation_145[0][0]             \n                                                                 activation_148[0][0]             \n                                                                 activation_153[0][0]             \n                                                                 activation_154[0][0]             \n__________________________________________________________________________________________________\nconv2d_159 (Conv2D)             (None, 7, 7, 192)    147456      mixed6[0][0]                     \n__________________________________________________________________________________________________\nbatch_normalization_159 (BatchN (None, 7, 7, 192)    576         conv2d_159[0][0]                 \n__________________________________________________________________________________________________\nactivation_159 (Activation)     (None, 7, 7, 192)    0           batch_normalization_159[0][0]    \n__________________________________________________________________________________________________\nconv2d_160 (Conv2D)             (None, 7, 7, 192)    258048      activation_159[0][0]             \n__________________________________________________________________________________________________\nbatch_normalization_160 (BatchN (None, 7, 7, 192)    576         conv2d_160[0][0]                 \n__________________________________________________________________________________________________\nactivation_160 (Activation)     (None, 7, 7, 192)    0           batch_normalization_160[0][0]    \n__________________________________________________________________________________________________\nconv2d_156 (Conv2D)             (None, 7, 7, 192)    147456      mixed6[0][0]                     \n__________________________________________________________________________________________________\nconv2d_161 (Conv2D)             (None, 7, 7, 192)    258048      activation_160[0][0]             \n__________________________________________________________________________________________________\nbatch_normalization_156 (BatchN (None, 7, 7, 192)    576         conv2d_156[0][0]                 \n__________________________________________________________________________________________________\nbatch_normalization_161 (BatchN (None, 7, 7, 192)    576         conv2d_161[0][0]                 \n__________________________________________________________________________________________________\nactivation_156 (Activation)     (None, 7, 7, 192)    0           batch_normalization_156[0][0]    \n__________________________________________________________________________________________________\nactivation_161 (Activation)     (None, 7, 7, 192)    0           batch_normalization_161[0][0]    \n__________________________________________________________________________________________________\nconv2d_157 (Conv2D)             (None, 7, 7, 192)    258048      activation_156[0][0]             \n__________________________________________________________________________________________________\nconv2d_162 (Conv2D)             (None, 7, 7, 192)    258048      activation_161[0][0]             \n__________________________________________________________________________________________________\nbatch_normalization_157 (BatchN (None, 7, 7, 192)    576         conv2d_157[0][0]                 \n__________________________________________________________________________________________________\nbatch_normalization_162 (BatchN (None, 7, 7, 192)    576         conv2d_162[0][0]                 \n__________________________________________________________________________________________________\nactivation_157 (Activation)     (None, 7, 7, 192)    0           batch_normalization_157[0][0]    \n__________________________________________________________________________________________________\nactivation_162 (Activation)     (None, 7, 7, 192)    0           batch_normalization_162[0][0]    \n__________________________________________________________________________________________________\naverage_pooling2d_16 (AveragePo (None, 7, 7, 768)    0           mixed6[0][0]                     \n__________________________________________________________________________________________________\nconv2d_155 (Conv2D)             (None, 7, 7, 192)    147456      mixed6[0][0]                     \n__________________________________________________________________________________________________\nconv2d_158 (Conv2D)             (None, 7, 7, 192)    258048      activation_157[0][0]             \n__________________________________________________________________________________________________\nconv2d_163 (Conv2D)             (None, 7, 7, 192)    258048      activation_162[0][0]             \n__________________________________________________________________________________________________\nconv2d_164 (Conv2D)             (None, 7, 7, 192)    147456      average_pooling2d_16[0][0]       \n__________________________________________________________________________________________________\nbatch_normalization_155 (BatchN (None, 7, 7, 192)    576         conv2d_155[0][0]                 \n__________________________________________________________________________________________________\nbatch_normalization_158 (BatchN (None, 7, 7, 192)    576         conv2d_158[0][0]                 \n__________________________________________________________________________________________________\nbatch_normalization_163 (BatchN (None, 7, 7, 192)    576         conv2d_163[0][0]                 \n__________________________________________________________________________________________________\nbatch_normalization_164 (BatchN (None, 7, 7, 192)    576         conv2d_164[0][0]                 \n__________________________________________________________________________________________________\nactivation_155 (Activation)     (None, 7, 7, 192)    0           batch_normalization_155[0][0]    \n__________________________________________________________________________________________________\nactivation_158 (Activation)     (None, 7, 7, 192)    0           batch_normalization_158[0][0]    \n__________________________________________________________________________________________________\nactivation_163 (Activation)     (None, 7, 7, 192)    0           batch_normalization_163[0][0]    \n__________________________________________________________________________________________________\nactivation_164 (Activation)     (None, 7, 7, 192)    0           batch_normalization_164[0][0]    \n__________________________________________________________________________________________________\nmixed7 (Concatenate)            (None, 7, 7, 768)    0           activation_155[0][0]             \n                                                                 activation_158[0][0]             \n                                                                 activation_163[0][0]             \n                                                                 activation_164[0][0]             \n__________________________________________________________________________________________________\nconv2d_167 (Conv2D)             (None, 7, 7, 192)    147456      mixed7[0][0]                     \n__________________________________________________________________________________________________\nbatch_normalization_167 (BatchN (None, 7, 7, 192)    576         conv2d_167[0][0]                 \n__________________________________________________________________________________________________\nactivation_167 (Activation)     (None, 7, 7, 192)    0           batch_normalization_167[0][0]    \n__________________________________________________________________________________________________\nconv2d_168 (Conv2D)             (None, 7, 7, 192)    258048      activation_167[0][0]             \n__________________________________________________________________________________________________\nbatch_normalization_168 (BatchN (None, 7, 7, 192)    576         conv2d_168[0][0]                 \n__________________________________________________________________________________________________\nactivation_168 (Activation)     (None, 7, 7, 192)    0           batch_normalization_168[0][0]    \n__________________________________________________________________________________________________\nconv2d_165 (Conv2D)             (None, 7, 7, 192)    147456      mixed7[0][0]                     \n__________________________________________________________________________________________________\nconv2d_169 (Conv2D)             (None, 7, 7, 192)    258048      activation_168[0][0]             \n__________________________________________________________________________________________________\nbatch_normalization_165 (BatchN (None, 7, 7, 192)    576         conv2d_165[0][0]                 \n__________________________________________________________________________________________________\nbatch_normalization_169 (BatchN (None, 7, 7, 192)    576         conv2d_169[0][0]                 \n__________________________________________________________________________________________________\nactivation_165 (Activation)     (None, 7, 7, 192)    0           batch_normalization_165[0][0]    \n__________________________________________________________________________________________________\nactivation_169 (Activation)     (None, 7, 7, 192)    0           batch_normalization_169[0][0]    \n__________________________________________________________________________________________________\nconv2d_166 (Conv2D)             (None, 3, 3, 320)    552960      activation_165[0][0]             \n__________________________________________________________________________________________________\nconv2d_170 (Conv2D)             (None, 3, 3, 192)    331776      activation_169[0][0]             \n__________________________________________________________________________________________________\nbatch_normalization_166 (BatchN (None, 3, 3, 320)    960         conv2d_166[0][0]                 \n__________________________________________________________________________________________________\nbatch_normalization_170 (BatchN (None, 3, 3, 192)    576         conv2d_170[0][0]                 \n__________________________________________________________________________________________________\nactivation_166 (Activation)     (None, 3, 3, 320)    0           batch_normalization_166[0][0]    \n__________________________________________________________________________________________________\nactivation_170 (Activation)     (None, 3, 3, 192)    0           batch_normalization_170[0][0]    \n__________________________________________________________________________________________________\nmax_pooling2d_8 (MaxPooling2D)  (None, 3, 3, 768)    0           mixed7[0][0]                     \n__________________________________________________________________________________________________\nmixed8 (Concatenate)            (None, 3, 3, 1280)   0           activation_166[0][0]             \n                                                                 activation_170[0][0]             \n                                                                 max_pooling2d_8[0][0]            \n__________________________________________________________________________________________________\nconv2d_175 (Conv2D)             (None, 3, 3, 448)    573440      mixed8[0][0]                     \n__________________________________________________________________________________________________\nbatch_normalization_175 (BatchN (None, 3, 3, 448)    1344        conv2d_175[0][0]                 \n__________________________________________________________________________________________________\nactivation_175 (Activation)     (None, 3, 3, 448)    0           batch_normalization_175[0][0]    \n__________________________________________________________________________________________________\nconv2d_172 (Conv2D)             (None, 3, 3, 384)    491520      mixed8[0][0]                     \n__________________________________________________________________________________________________\nconv2d_176 (Conv2D)             (None, 3, 3, 384)    1548288     activation_175[0][0]             \n__________________________________________________________________________________________________\nbatch_normalization_172 (BatchN (None, 3, 3, 384)    1152        conv2d_172[0][0]                 \n__________________________________________________________________________________________________\nbatch_normalization_176 (BatchN (None, 3, 3, 384)    1152        conv2d_176[0][0]                 \n__________________________________________________________________________________________________\nactivation_172 (Activation)     (None, 3, 3, 384)    0           batch_normalization_172[0][0]    \n__________________________________________________________________________________________________\nactivation_176 (Activation)     (None, 3, 3, 384)    0           batch_normalization_176[0][0]    \n__________________________________________________________________________________________________\nconv2d_173 (Conv2D)             (None, 3, 3, 384)    442368      activation_172[0][0]             \n__________________________________________________________________________________________________\nconv2d_174 (Conv2D)             (None, 3, 3, 384)    442368      activation_172[0][0]             \n__________________________________________________________________________________________________\nconv2d_177 (Conv2D)             (None, 3, 3, 384)    442368      activation_176[0][0]             \n__________________________________________________________________________________________________\nconv2d_178 (Conv2D)             (None, 3, 3, 384)    442368      activation_176[0][0]             \n__________________________________________________________________________________________________\naverage_pooling2d_17 (AveragePo (None, 3, 3, 1280)   0           mixed8[0][0]                     \n__________________________________________________________________________________________________\nconv2d_171 (Conv2D)             (None, 3, 3, 320)    409600      mixed8[0][0]                     \n__________________________________________________________________________________________________\nbatch_normalization_173 (BatchN (None, 3, 3, 384)    1152        conv2d_173[0][0]                 \n__________________________________________________________________________________________________\nbatch_normalization_174 (BatchN (None, 3, 3, 384)    1152        conv2d_174[0][0]                 \n__________________________________________________________________________________________________\nbatch_normalization_177 (BatchN (None, 3, 3, 384)    1152        conv2d_177[0][0]                 \n__________________________________________________________________________________________________\nbatch_normalization_178 (BatchN (None, 3, 3, 384)    1152        conv2d_178[0][0]                 \n__________________________________________________________________________________________________\nconv2d_179 (Conv2D)             (None, 3, 3, 192)    245760      average_pooling2d_17[0][0]       \n__________________________________________________________________________________________________\nbatch_normalization_171 (BatchN (None, 3, 3, 320)    960         conv2d_171[0][0]                 \n__________________________________________________________________________________________________\nactivation_173 (Activation)     (None, 3, 3, 384)    0           batch_normalization_173[0][0]    \n__________________________________________________________________________________________________\nactivation_174 (Activation)     (None, 3, 3, 384)    0           batch_normalization_174[0][0]    \n__________________________________________________________________________________________________\nactivation_177 (Activation)     (None, 3, 3, 384)    0           batch_normalization_177[0][0]    \n__________________________________________________________________________________________________\nactivation_178 (Activation)     (None, 3, 3, 384)    0           batch_normalization_178[0][0]    \n__________________________________________________________________________________________________\nbatch_normalization_179 (BatchN (None, 3, 3, 192)    576         conv2d_179[0][0]                 \n__________________________________________________________________________________________________\nactivation_171 (Activation)     (None, 3, 3, 320)    0           batch_normalization_171[0][0]    \n__________________________________________________________________________________________________\nmixed9_0 (Concatenate)          (None, 3, 3, 768)    0           activation_173[0][0]             \n                                                                 activation_174[0][0]             \n__________________________________________________________________________________________________\nconcatenate_3 (Concatenate)     (None, 3, 3, 768)    0           activation_177[0][0]             \n                                                                 activation_178[0][0]             \n__________________________________________________________________________________________________\nactivation_179 (Activation)     (None, 3, 3, 192)    0           batch_normalization_179[0][0]    \n__________________________________________________________________________________________________\nmixed9 (Concatenate)            (None, 3, 3, 2048)   0           activation_171[0][0]             \n                                                                 mixed9_0[0][0]                   \n                                                                 concatenate_3[0][0]              \n                                                                 activation_179[0][0]             \n__________________________________________________________________________________________________\nconv2d_184 (Conv2D)             (None, 3, 3, 448)    917504      mixed9[0][0]                     \n__________________________________________________________________________________________________\nbatch_normalization_184 (BatchN (None, 3, 3, 448)    1344        conv2d_184[0][0]                 \n__________________________________________________________________________________________________\nactivation_184 (Activation)     (None, 3, 3, 448)    0           batch_normalization_184[0][0]    \n__________________________________________________________________________________________________\nconv2d_181 (Conv2D)             (None, 3, 3, 384)    786432      mixed9[0][0]                     \n__________________________________________________________________________________________________\nconv2d_185 (Conv2D)             (None, 3, 3, 384)    1548288     activation_184[0][0]             \n__________________________________________________________________________________________________\nbatch_normalization_181 (BatchN (None, 3, 3, 384)    1152        conv2d_181[0][0]                 \n__________________________________________________________________________________________________\nbatch_normalization_185 (BatchN (None, 3, 3, 384)    1152        conv2d_185[0][0]                 \n__________________________________________________________________________________________________\nactivation_181 (Activation)     (None, 3, 3, 384)    0           batch_normalization_181[0][0]    \n__________________________________________________________________________________________________\nactivation_185 (Activation)     (None, 3, 3, 384)    0           batch_normalization_185[0][0]    \n__________________________________________________________________________________________________\nconv2d_182 (Conv2D)             (None, 3, 3, 384)    442368      activation_181[0][0]             \n__________________________________________________________________________________________________\nconv2d_183 (Conv2D)             (None, 3, 3, 384)    442368      activation_181[0][0]             \n__________________________________________________________________________________________________\nconv2d_186 (Conv2D)             (None, 3, 3, 384)    442368      activation_185[0][0]             \n__________________________________________________________________________________________________\nconv2d_187 (Conv2D)             (None, 3, 3, 384)    442368      activation_185[0][0]             \n__________________________________________________________________________________________________\naverage_pooling2d_18 (AveragePo (None, 3, 3, 2048)   0           mixed9[0][0]                     \n__________________________________________________________________________________________________\nconv2d_180 (Conv2D)             (None, 3, 3, 320)    655360      mixed9[0][0]                     \n__________________________________________________________________________________________________\nbatch_normalization_182 (BatchN (None, 3, 3, 384)    1152        conv2d_182[0][0]                 \n__________________________________________________________________________________________________\nbatch_normalization_183 (BatchN (None, 3, 3, 384)    1152        conv2d_183[0][0]                 \n__________________________________________________________________________________________________\nbatch_normalization_186 (BatchN (None, 3, 3, 384)    1152        conv2d_186[0][0]                 \n__________________________________________________________________________________________________\nbatch_normalization_187 (BatchN (None, 3, 3, 384)    1152        conv2d_187[0][0]                 \n__________________________________________________________________________________________________\nconv2d_188 (Conv2D)             (None, 3, 3, 192)    393216      average_pooling2d_18[0][0]       \n__________________________________________________________________________________________________\nbatch_normalization_180 (BatchN (None, 3, 3, 320)    960         conv2d_180[0][0]                 \n__________________________________________________________________________________________________\nactivation_182 (Activation)     (None, 3, 3, 384)    0           batch_normalization_182[0][0]    \n__________________________________________________________________________________________________\nactivation_183 (Activation)     (None, 3, 3, 384)    0           batch_normalization_183[0][0]    \n__________________________________________________________________________________________________\nactivation_186 (Activation)     (None, 3, 3, 384)    0           batch_normalization_186[0][0]    \n__________________________________________________________________________________________________\nactivation_187 (Activation)     (None, 3, 3, 384)    0           batch_normalization_187[0][0]    \n__________________________________________________________________________________________________\nbatch_normalization_188 (BatchN (None, 3, 3, 192)    576         conv2d_188[0][0]                 \n__________________________________________________________________________________________________\nactivation_180 (Activation)     (None, 3, 3, 320)    0           batch_normalization_180[0][0]    \n__________________________________________________________________________________________________\nmixed9_1 (Concatenate)          (None, 3, 3, 768)    0           activation_182[0][0]             \n                                                                 activation_183[0][0]             \n__________________________________________________________________________________________________\nconcatenate_4 (Concatenate)     (None, 3, 3, 768)    0           activation_186[0][0]             \n                                                                 activation_187[0][0]             \n__________________________________________________________________________________________________\nactivation_188 (Activation)     (None, 3, 3, 192)    0           batch_normalization_188[0][0]    \n__________________________________________________________________________________________________\nmixed10 (Concatenate)           (None, 3, 3, 2048)   0           activation_180[0][0]             \n                                                                 mixed9_1[0][0]                   \n                                                                 concatenate_4[0][0]              \n                                                                 activation_188[0][0]             \n==================================================================================================\nTotal params: 21,802,784\nTrainable params: 0\nNon-trainable params: 21,802,784\n__________________________________________________________________________________________________\n"
    }
   ],
   "source": [
    "## TODO: Use the model summary function to see all layers in the\n",
    "##       loaded Inception model\n",
    "inception.summary()"
   ]
  },
  {
   "cell_type": "markdown",
   "metadata": {},
   "source": [
    "In a normal Inception network, you would see from the model summary that the last two layers were a global average pooling layer, and a fully-connected \"Dense\" layer. However, since we set `include_top` to `False`, both of these get dropped. If you otherwise wanted to drop additional layers, you would use:\n",
    "\n",
    "```\n",
    "inception.layers.pop()\n",
    "```\n",
    "\n",
    "Note that `pop()` works from the end of the model backwards."
   ]
  },
  {
   "cell_type": "markdown",
   "metadata": {},
   "source": [
    "It's important to note two things here:\n",
    "1. How many layers you drop is up to you, typically. We dropped the final two already by setting `include_top` to False in the original loading of the model, but you could instead just run `pop()` twice to achieve similar results. (*Note:* Keras requires us to set `include_top` to False in order to change the `input_shape`.) Additional layers could be dropped by additional calls to `pop()`.\n",
    "2. If you make a mistake with `pop()`, you'll want to reload the model. If you use it multiple times, the model will continue to drop more and more layers, so you may need to check `model.summary()` again to check your work."
   ]
  },
  {
   "cell_type": "markdown",
   "metadata": {},
   "source": [
    "### Adding new layers\n",
    "\n",
    "Now, you can start to add your own layers. While we've used Keras's `Sequential` model before for simplicity, we'll actually use the [Model API](https://keras.io/models/model/) this time. This functions a little differently, in that instead of using `model.add()`, you explicitly tell the model which previous layer to attach to the current layer. This is useful if you want to use more advanced concepts like [skip layers](https://en.wikipedia.org/wiki/Residual_neural_network), for instance (which were used heavily in ResNet).\n",
    "\n",
    "For example, if you had a previous layer named `inp`:\n",
    "```\n",
    "x = Dropout(0.2)(inp)\n",
    "```\n",
    "is how you would attach a new dropout layer `x`, with it's input coming from a layer with the variable name `inp`.\n",
    "\n",
    "We are going to use the [CIFAR-10 dataset](https://www.cs.toronto.edu/~kriz/cifar.html), which consists of 60,000 32x32 images of 10 classes. We need to use Keras's `Input` function to do so, and then we want to re-size the images up to the `input_size` we specified earlier (139x139)."
   ]
  },
  {
   "cell_type": "code",
   "execution_count": 10,
   "metadata": {},
   "outputs": [],
   "source": [
    "from keras.layers import Input, Lambda\n",
    "import tensorflow as tf\n",
    "\n",
    "# Makes the input placeholder layer 32x32x3 for CIFAR-10\n",
    "cifar_input = Input(shape=(32,32,3))\n",
    "\n",
    "# Re-sizes the input with Kera's Lambda layer & attach to cifar_input\n",
    "resized_input = Lambda(lambda image: tf.image.resize_images( \n",
    "    image, (input_size, input_size)))(cifar_input)\n",
    "\n",
    "# Feeds the re-sized input into Inception model\n",
    "# You will need to update the model name if you changed it earlier!\n",
    "inp = inception(resized_input)"
   ]
  },
  {
   "cell_type": "code",
   "execution_count": 11,
   "metadata": {},
   "outputs": [],
   "source": [
    "# Imports fully-connected \"Dense\" layers & Global Average Pooling\n",
    "from keras.layers import Dense, GlobalAveragePooling2D\n",
    "\n",
    "## TODO: Setting `include_top` to False earlier also removed the\n",
    "##       GlobalAveragePooling2D layer, but we still want it.\n",
    "##       Add it here, and make sure to connect it to the end of Inception\n",
    "x = GlobalAveragePooling2D()(inp)\n",
    "\n",
    "## TODO: Create two new fully-connected layers using the Model API\n",
    "##       format discussed above. The first layer should use `out`\n",
    "##       as its input, along with ReLU activation. You can choose\n",
    "##       how many nodes it has, although 512 or less is a good idea.\n",
    "##       The second layer should take this first layer as input, and\n",
    "##       be named \"predictions\", with Softmax activation and \n",
    "##       10 nodes, as we'll be using the CIFAR10 dataset.\n",
    "x = Dense(512, activation = 'relu')(x)\n",
    "predictions = Dense(10, activation = 'softmax')(x)"
   ]
  },
  {
   "cell_type": "markdown",
   "metadata": {},
   "source": [
    "We're almost done with our new model! Now we just need to use the actual Model API to create the full model."
   ]
  },
  {
   "cell_type": "code",
   "execution_count": 12,
   "metadata": {
    "tags": []
   },
   "outputs": [
    {
     "output_type": "stream",
     "name": "stdout",
     "text": "Model: \"model_2\"\n_________________________________________________________________\nLayer (type)                 Output Shape              Param #   \n=================================================================\ninput_4 (InputLayer)         (None, 32, 32, 3)         0         \n_________________________________________________________________\nlambda_2 (Lambda)            (None, 139, 139, 3)       0         \n_________________________________________________________________\ninception_v3 (Model)         (None, 3, 3, 2048)        21802784  \n_________________________________________________________________\nglobal_average_pooling2d_2 ( (None, 2048)              0         \n_________________________________________________________________\ndense_3 (Dense)              (None, 512)               1049088   \n_________________________________________________________________\ndense_4 (Dense)              (None, 10)                5130      \n=================================================================\nTotal params: 22,857,002\nTrainable params: 1,054,218\nNon-trainable params: 21,802,784\n_________________________________________________________________\n"
    }
   ],
   "source": [
    "# Imports the Model API\n",
    "from keras.models import Model\n",
    "\n",
    "# Creates the model, assuming your final layer is named \"predictions\"\n",
    "model = Model(inputs=cifar_input, outputs=predictions)\n",
    "\n",
    "# Compile the model\n",
    "model.compile(optimizer='Adam', loss='categorical_crossentropy', metrics=['accuracy'])\n",
    "\n",
    "# Check the summary of this new model to confirm the architecture\n",
    "model.summary()"
   ]
  },
  {
   "cell_type": "markdown",
   "metadata": {},
   "source": [
    "Great job creating a new model architecture from Inception! Notice how this method of adding layers before InceptionV3 and appending to the end of it made InceptionV3 condense down into one line in the summary; if you use the Inception model's normal input (which you could gather from `inception.layers.input`), it would instead show all the layers like before.\n",
    "\n",
    "Most of the rest of the code in the notebook just goes toward loading our data, pre-processing it, and starting our training in Keras, although there's one other good point to make here - Keras callbacks.\n",
    "\n",
    "### Keras Callbacks\n",
    "Keras [callbacks](https://keras.io/callbacks/) allow you to gather and store additional information during training, such as the best model, or even stop training early if the validation accuracy has stopped improving. These methods can help to avoid overfitting, or avoid other issues.\n",
    "\n",
    "There's two key callbacks to mention here, `ModelCheckpoint` and `EarlyStopping`. As the names may suggest, model checkpoint saves down the best model so far based on a given metric, while early stopping will end training before the specified number of epochs if the chosen metric no longer improves after a given amount of time.\n",
    "\n",
    "To set these callbacks, you could do the following:\n",
    "```\n",
    "checkpoint = ModelCheckpoint(filepath=save_path, monitor='val_loss', save_best_only=True)\n",
    "```\n",
    "This would save a model to a specified `save_path`, based on validation loss, and only save down the best models. If you set `save_best_only` to `False`, every single epoch will save down another version of the model.\n",
    "```\n",
    "stopper = EarlyStopping(monitor='val_acc', min_delta=0.0003, patience=5)\n",
    "```\n",
    "This will monitor validation accuracy, and if it has not decreased by more than 0.0003 from the previous best validation accuracy for 5 epochs, training will end early.\n",
    "\n",
    "\n",
    "You still need to actually feed these callbacks into `fit()` when you train the model (along with all other relevant data to feed into `fit`):\n",
    "```\n",
    "model.fit(callbacks=[checkpoint, stopper])\n",
    "```"
   ]
  },
  {
   "cell_type": "markdown",
   "metadata": {},
   "source": [
    "## GPU time\n",
    "\n",
    "The rest of the notebook will give you the code for training, so you can turn on the GPU at this point - but first, **make sure to save your jupyter notebook**. Once the GPU is turned on, it will load whatever your last notebook checkpoint is. \n",
    "\n",
    "While we suggest reading through the code below to make sure you understand it, you can otherwise go ahead and select *Cell > Run All* (or *Kernel > Restart & Run All* if already using GPU) to run through all cells in the notebook."
   ]
  },
  {
   "cell_type": "code",
   "execution_count": 13,
   "metadata": {},
   "outputs": [],
   "source": [
    "from sklearn.utils import shuffle\n",
    "from sklearn.preprocessing import LabelBinarizer\n",
    "from keras.datasets import cifar10\n",
    "\n",
    "(X_train, y_train), (X_val, y_val) = cifar10.load_data()\n",
    "\n",
    "# One-hot encode the labels\n",
    "label_binarizer = LabelBinarizer()\n",
    "y_one_hot_train = label_binarizer.fit_transform(y_train)\n",
    "y_one_hot_val = label_binarizer.fit_transform(y_val)\n",
    "\n",
    "# Shuffle the training & test data\n",
    "X_train, y_one_hot_train = shuffle(X_train, y_one_hot_train)\n",
    "X_val, y_one_hot_val = shuffle(X_val, y_one_hot_val)\n",
    "\n",
    "# We are only going to use the first 10,000 images for speed reasons\n",
    "# And only the first 2,000 images from the test set\n",
    "X_train = X_train[:10000]\n",
    "y_one_hot_train = y_one_hot_train[:10000]\n",
    "X_val = X_val[:2000]\n",
    "y_one_hot_val = y_one_hot_val[:2000]"
   ]
  },
  {
   "cell_type": "markdown",
   "metadata": {},
   "source": [
    "You can check out Keras's [ImageDataGenerator documentation](https://faroit.github.io/keras-docs/2.0.9/preprocessing/image/) for more information on the below - you can also add additional image augmentation through this function, although we are skipping that step here so you can potentially explore it in the upcoming project."
   ]
  },
  {
   "cell_type": "code",
   "execution_count": 14,
   "metadata": {},
   "outputs": [],
   "source": [
    "# Use a generator to pre-process our images for ImageNet\n",
    "from keras.preprocessing.image import ImageDataGenerator\n",
    "from keras.applications.inception_v3 import preprocess_input\n",
    "\n",
    "if preprocess_flag == True:\n",
    "    datagen = ImageDataGenerator(preprocessing_function=preprocess_input)\n",
    "    val_datagen = ImageDataGenerator(preprocessing_function=preprocess_input)\n",
    "else:\n",
    "    datagen = ImageDataGenerator()\n",
    "    val_datagen = ImageDataGenerator()"
   ]
  },
  {
   "cell_type": "code",
   "execution_count": 15,
   "metadata": {
    "tags": []
   },
   "outputs": [
    {
     "output_type": "stream",
     "name": "stdout",
     "text": "WARNING:tensorflow:From C:\\Users\\Admin\\.conda\\envs\\tf-gpu-v1\\lib\\site-packages\\keras\\backend\\tensorflow_backend.py:422: The name tf.global_variables is deprecated. Please use tf.compat.v1.global_variables instead.\n\nEpoch 1/5\n"
    },
    {
     "output_type": "error",
     "ename": "UnknownError",
     "evalue": "2 root error(s) found.\n  (0) Unknown: Failed to get convolution algorithm. This is probably because cuDNN failed to initialize, so try looking to see if a warning log message was printed above.\n\t [[{{node inception_v3_1/conv2d_95/convolution}}]]\n\t [[Mean_1/_4603]]\n  (1) Unknown: Failed to get convolution algorithm. This is probably because cuDNN failed to initialize, so try looking to see if a warning log message was printed above.\n\t [[{{node inception_v3_1/conv2d_95/convolution}}]]\n0 successful operations.\n0 derived errors ignored.",
     "traceback": [
      "\u001b[1;31m---------------------------------------------------------------------------\u001b[0m",
      "\u001b[1;31mUnknownError\u001b[0m                              Traceback (most recent call last)",
      "\u001b[1;32m<ipython-input-15-0362dc800513>\u001b[0m in \u001b[0;36m<module>\u001b[1;34m\u001b[0m\n\u001b[0;32m      6\u001b[0m                     \u001b[0msteps_per_epoch\u001b[0m\u001b[1;33m=\u001b[0m\u001b[0mlen\u001b[0m\u001b[1;33m(\u001b[0m\u001b[0mX_train\u001b[0m\u001b[1;33m)\u001b[0m\u001b[1;33m/\u001b[0m\u001b[0mbatch_size\u001b[0m\u001b[1;33m,\u001b[0m \u001b[0mepochs\u001b[0m\u001b[1;33m=\u001b[0m\u001b[0mepochs\u001b[0m\u001b[1;33m,\u001b[0m \u001b[0mverbose\u001b[0m\u001b[1;33m=\u001b[0m\u001b[1;36m1\u001b[0m\u001b[1;33m,\u001b[0m\u001b[1;33m\u001b[0m\u001b[1;33m\u001b[0m\u001b[0m\n\u001b[0;32m      7\u001b[0m                     \u001b[0mvalidation_data\u001b[0m\u001b[1;33m=\u001b[0m\u001b[0mval_datagen\u001b[0m\u001b[1;33m.\u001b[0m\u001b[0mflow\u001b[0m\u001b[1;33m(\u001b[0m\u001b[0mX_val\u001b[0m\u001b[1;33m,\u001b[0m \u001b[0my_one_hot_val\u001b[0m\u001b[1;33m,\u001b[0m \u001b[0mbatch_size\u001b[0m\u001b[1;33m=\u001b[0m\u001b[0mbatch_size\u001b[0m\u001b[1;33m)\u001b[0m\u001b[1;33m,\u001b[0m\u001b[1;33m\u001b[0m\u001b[1;33m\u001b[0m\u001b[0m\n\u001b[1;32m----> 8\u001b[1;33m                     validation_steps=len(X_val)/batch_size)\n\u001b[0m",
      "\u001b[1;32m~\\.conda\\envs\\tf-gpu-v1\\lib\\site-packages\\keras\\legacy\\interfaces.py\u001b[0m in \u001b[0;36mwrapper\u001b[1;34m(*args, **kwargs)\u001b[0m\n\u001b[0;32m     89\u001b[0m                 warnings.warn('Update your `' + object_name + '` call to the ' +\n\u001b[0;32m     90\u001b[0m                               'Keras 2 API: ' + signature, stacklevel=2)\n\u001b[1;32m---> 91\u001b[1;33m             \u001b[1;32mreturn\u001b[0m \u001b[0mfunc\u001b[0m\u001b[1;33m(\u001b[0m\u001b[1;33m*\u001b[0m\u001b[0margs\u001b[0m\u001b[1;33m,\u001b[0m \u001b[1;33m**\u001b[0m\u001b[0mkwargs\u001b[0m\u001b[1;33m)\u001b[0m\u001b[1;33m\u001b[0m\u001b[1;33m\u001b[0m\u001b[0m\n\u001b[0m\u001b[0;32m     92\u001b[0m         \u001b[0mwrapper\u001b[0m\u001b[1;33m.\u001b[0m\u001b[0m_original_function\u001b[0m \u001b[1;33m=\u001b[0m \u001b[0mfunc\u001b[0m\u001b[1;33m\u001b[0m\u001b[1;33m\u001b[0m\u001b[0m\n\u001b[0;32m     93\u001b[0m         \u001b[1;32mreturn\u001b[0m \u001b[0mwrapper\u001b[0m\u001b[1;33m\u001b[0m\u001b[1;33m\u001b[0m\u001b[0m\n",
      "\u001b[1;32m~\\.conda\\envs\\tf-gpu-v1\\lib\\site-packages\\keras\\engine\\training.py\u001b[0m in \u001b[0;36mfit_generator\u001b[1;34m(self, generator, steps_per_epoch, epochs, verbose, callbacks, validation_data, validation_steps, validation_freq, class_weight, max_queue_size, workers, use_multiprocessing, shuffle, initial_epoch)\u001b[0m\n\u001b[0;32m   1730\u001b[0m             \u001b[0muse_multiprocessing\u001b[0m\u001b[1;33m=\u001b[0m\u001b[0muse_multiprocessing\u001b[0m\u001b[1;33m,\u001b[0m\u001b[1;33m\u001b[0m\u001b[1;33m\u001b[0m\u001b[0m\n\u001b[0;32m   1731\u001b[0m             \u001b[0mshuffle\u001b[0m\u001b[1;33m=\u001b[0m\u001b[0mshuffle\u001b[0m\u001b[1;33m,\u001b[0m\u001b[1;33m\u001b[0m\u001b[1;33m\u001b[0m\u001b[0m\n\u001b[1;32m-> 1732\u001b[1;33m             initial_epoch=initial_epoch)\n\u001b[0m\u001b[0;32m   1733\u001b[0m \u001b[1;33m\u001b[0m\u001b[0m\n\u001b[0;32m   1734\u001b[0m     \u001b[1;33m@\u001b[0m\u001b[0minterfaces\u001b[0m\u001b[1;33m.\u001b[0m\u001b[0mlegacy_generator_methods_support\u001b[0m\u001b[1;33m\u001b[0m\u001b[1;33m\u001b[0m\u001b[0m\n",
      "\u001b[1;32m~\\.conda\\envs\\tf-gpu-v1\\lib\\site-packages\\keras\\engine\\training_generator.py\u001b[0m in \u001b[0;36mfit_generator\u001b[1;34m(model, generator, steps_per_epoch, epochs, verbose, callbacks, validation_data, validation_steps, validation_freq, class_weight, max_queue_size, workers, use_multiprocessing, shuffle, initial_epoch)\u001b[0m\n\u001b[0;32m    218\u001b[0m                                             \u001b[0msample_weight\u001b[0m\u001b[1;33m=\u001b[0m\u001b[0msample_weight\u001b[0m\u001b[1;33m,\u001b[0m\u001b[1;33m\u001b[0m\u001b[1;33m\u001b[0m\u001b[0m\n\u001b[0;32m    219\u001b[0m                                             \u001b[0mclass_weight\u001b[0m\u001b[1;33m=\u001b[0m\u001b[0mclass_weight\u001b[0m\u001b[1;33m,\u001b[0m\u001b[1;33m\u001b[0m\u001b[1;33m\u001b[0m\u001b[0m\n\u001b[1;32m--> 220\u001b[1;33m                                             reset_metrics=False)\n\u001b[0m\u001b[0;32m    221\u001b[0m \u001b[1;33m\u001b[0m\u001b[0m\n\u001b[0;32m    222\u001b[0m                 \u001b[0mouts\u001b[0m \u001b[1;33m=\u001b[0m \u001b[0mto_list\u001b[0m\u001b[1;33m(\u001b[0m\u001b[0mouts\u001b[0m\u001b[1;33m)\u001b[0m\u001b[1;33m\u001b[0m\u001b[1;33m\u001b[0m\u001b[0m\n",
      "\u001b[1;32m~\\.conda\\envs\\tf-gpu-v1\\lib\\site-packages\\keras\\engine\\training.py\u001b[0m in \u001b[0;36mtrain_on_batch\u001b[1;34m(self, x, y, sample_weight, class_weight, reset_metrics)\u001b[0m\n\u001b[0;32m   1512\u001b[0m             \u001b[0mins\u001b[0m \u001b[1;33m=\u001b[0m \u001b[0mx\u001b[0m \u001b[1;33m+\u001b[0m \u001b[0my\u001b[0m \u001b[1;33m+\u001b[0m \u001b[0msample_weights\u001b[0m\u001b[1;33m\u001b[0m\u001b[1;33m\u001b[0m\u001b[0m\n\u001b[0;32m   1513\u001b[0m         \u001b[0mself\u001b[0m\u001b[1;33m.\u001b[0m\u001b[0m_make_train_function\u001b[0m\u001b[1;33m(\u001b[0m\u001b[1;33m)\u001b[0m\u001b[1;33m\u001b[0m\u001b[1;33m\u001b[0m\u001b[0m\n\u001b[1;32m-> 1514\u001b[1;33m         \u001b[0moutputs\u001b[0m \u001b[1;33m=\u001b[0m \u001b[0mself\u001b[0m\u001b[1;33m.\u001b[0m\u001b[0mtrain_function\u001b[0m\u001b[1;33m(\u001b[0m\u001b[0mins\u001b[0m\u001b[1;33m)\u001b[0m\u001b[1;33m\u001b[0m\u001b[1;33m\u001b[0m\u001b[0m\n\u001b[0m\u001b[0;32m   1515\u001b[0m \u001b[1;33m\u001b[0m\u001b[0m\n\u001b[0;32m   1516\u001b[0m         \u001b[1;32mif\u001b[0m \u001b[0mreset_metrics\u001b[0m\u001b[1;33m:\u001b[0m\u001b[1;33m\u001b[0m\u001b[1;33m\u001b[0m\u001b[0m\n",
      "\u001b[1;32m~\\.conda\\envs\\tf-gpu-v1\\lib\\site-packages\\tensorflow_core\\python\\keras\\backend.py\u001b[0m in \u001b[0;36m__call__\u001b[1;34m(self, inputs)\u001b[0m\n\u001b[0;32m   3474\u001b[0m \u001b[1;33m\u001b[0m\u001b[0m\n\u001b[0;32m   3475\u001b[0m     fetched = self._callable_fn(*array_vals,\n\u001b[1;32m-> 3476\u001b[1;33m                                 run_metadata=self.run_metadata)\n\u001b[0m\u001b[0;32m   3477\u001b[0m     \u001b[0mself\u001b[0m\u001b[1;33m.\u001b[0m\u001b[0m_call_fetch_callbacks\u001b[0m\u001b[1;33m(\u001b[0m\u001b[0mfetched\u001b[0m\u001b[1;33m[\u001b[0m\u001b[1;33m-\u001b[0m\u001b[0mlen\u001b[0m\u001b[1;33m(\u001b[0m\u001b[0mself\u001b[0m\u001b[1;33m.\u001b[0m\u001b[0m_fetches\u001b[0m\u001b[1;33m)\u001b[0m\u001b[1;33m:\u001b[0m\u001b[1;33m]\u001b[0m\u001b[1;33m)\u001b[0m\u001b[1;33m\u001b[0m\u001b[1;33m\u001b[0m\u001b[0m\n\u001b[0;32m   3478\u001b[0m     output_structure = nest.pack_sequence_as(\n",
      "\u001b[1;32m~\\.conda\\envs\\tf-gpu-v1\\lib\\site-packages\\tensorflow_core\\python\\client\\session.py\u001b[0m in \u001b[0;36m__call__\u001b[1;34m(self, *args, **kwargs)\u001b[0m\n\u001b[0;32m   1470\u001b[0m         ret = tf_session.TF_SessionRunCallable(self._session._session,\n\u001b[0;32m   1471\u001b[0m                                                \u001b[0mself\u001b[0m\u001b[1;33m.\u001b[0m\u001b[0m_handle\u001b[0m\u001b[1;33m,\u001b[0m \u001b[0margs\u001b[0m\u001b[1;33m,\u001b[0m\u001b[1;33m\u001b[0m\u001b[1;33m\u001b[0m\u001b[0m\n\u001b[1;32m-> 1472\u001b[1;33m                                                run_metadata_ptr)\n\u001b[0m\u001b[0;32m   1473\u001b[0m         \u001b[1;32mif\u001b[0m \u001b[0mrun_metadata\u001b[0m\u001b[1;33m:\u001b[0m\u001b[1;33m\u001b[0m\u001b[1;33m\u001b[0m\u001b[0m\n\u001b[0;32m   1474\u001b[0m           \u001b[0mproto_data\u001b[0m \u001b[1;33m=\u001b[0m \u001b[0mtf_session\u001b[0m\u001b[1;33m.\u001b[0m\u001b[0mTF_GetBuffer\u001b[0m\u001b[1;33m(\u001b[0m\u001b[0mrun_metadata_ptr\u001b[0m\u001b[1;33m)\u001b[0m\u001b[1;33m\u001b[0m\u001b[1;33m\u001b[0m\u001b[0m\n",
      "\u001b[1;31mUnknownError\u001b[0m: 2 root error(s) found.\n  (0) Unknown: Failed to get convolution algorithm. This is probably because cuDNN failed to initialize, so try looking to see if a warning log message was printed above.\n\t [[{{node inception_v3_1/conv2d_95/convolution}}]]\n\t [[Mean_1/_4603]]\n  (1) Unknown: Failed to get convolution algorithm. This is probably because cuDNN failed to initialize, so try looking to see if a warning log message was printed above.\n\t [[{{node inception_v3_1/conv2d_95/convolution}}]]\n0 successful operations.\n0 derived errors ignored."
     ]
    }
   ],
   "source": [
    "# Train the model\n",
    "batch_size = 32\n",
    "epochs = 5\n",
    "# Note: we aren't using callbacks here since we only are using 5 epochs to conserve GPU time\n",
    "model.fit_generator(datagen.flow(X_train, y_one_hot_train, batch_size=batch_size), \n",
    "                    steps_per_epoch=len(X_train)/batch_size, epochs=epochs, verbose=1, \n",
    "                    validation_data=val_datagen.flow(X_val, y_one_hot_val, batch_size=batch_size),\n",
    "                    validation_steps=len(X_val)/batch_size)"
   ]
  },
  {
   "cell_type": "markdown",
   "metadata": {},
   "source": [
    "As you may have noticed, CIFAR-10 is a fairly tough dataset. However, given that we are only training on a small subset of the data, only training for five epochs, and not using any image augmentation, the results are still fairly impressive!\n",
    "\n",
    "We achieved ~70% validation accuracy here, although your results may vary."
   ]
  },
  {
   "cell_type": "markdown",
   "metadata": {},
   "source": [
    "## [Optional] Test without frozen weights, or by training from scratch.\n",
    "\n",
    "Since the majority of the model was frozen above, training speed is pretty quick. You may also want to check out the training speed, as well as final accuracy, if you don't freeze the weights. Note that this can be fairly slow, so we're marking this as optional in order to conserve GPU time. \n",
    "\n",
    "If you do want to see the results from doing so, go back to the first code cell and set `freeze_flag` to `False`. If you want to completely train from scratch without ImageNet pre-trained weights, follow the previous step as well as setting `weights_flag` to `None`. Then, go to *Kernel > Restart & Run All*."
   ]
  },
  {
   "cell_type": "markdown",
   "metadata": {},
   "source": [
    "## Comparison\n",
    "\n",
    "So that you don't use up your GPU time, we've tried out these results ourselves as well.\n",
    "\n",
    "Training Mode | Val Acc @ 1 epoch | Val Acc @ 5 epoch | Time per epoch\n",
    "---- | :----: | :----: | ----:\n",
    "Frozen weights | 65.5% | 70.3% | 50 seconds\n",
    "Unfrozen weights | 50.6% | 71.6% | 142 seconds\n",
    "No pre-trained weights | 19.2% | 39.2% | 142 seconds\n",
    "\n",
    "From the above, we can see that the pre-trained model with frozen weights actually began converging the fastest (already at 65.5% after 1 epoch), while the model re-training from the pre-trained weights slightly edged it out after 5 epochs.\n",
    "\n",
    "However, this does not tell the whole story - the training accuracy was substantially higher, nearing 87% for the unfrozen weights model. It actually began overfit the data much more under this method. We would likely be able to counteract some of this issue by using data augmentation. On the flip side, the model using frozen weights could also have been improved by actually only freezing a portion of the weights; some of these are likely more specific to ImageNet classes as it gets later in the network, as opposed to the simpler features extracted early in the network.\n",
    "\n",
    "### The Power of Transfer Learning\n",
    "Comparing the last line to the other two really shows the power of transfer learning. After five epochs, a model without ImageNet pre-training had only achieved 39.2% accuracy, compared to over 70% for the other two. As such, pre-training the network has saved substantial time, especially given the additional training time needed when the weights are not frozen.\n",
    "\n",
    "There is also evidence found in various research that pre-training on ImageNet weights will result in a higher overall accuracy than completely training from scratch, even when using a substantially different dataset."
   ]
  }
 ],
 "metadata": {
  "kernelspec": {
   "display_name": "Python 3",
   "language": "python",
   "name": "python3"
  },
  "language_info": {
   "codemirror_mode": {
    "name": "ipython",
    "version": 3
   },
   "file_extension": ".py",
   "mimetype": "text/x-python",
   "name": "python",
   "nbconvert_exporter": "python",
   "pygments_lexer": "ipython3",
   "version": "3.7.7-final"
  }
 },
 "nbformat": 4,
 "nbformat_minor": 2
}