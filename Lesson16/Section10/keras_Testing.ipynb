{
 "cells": [
  {
   "cell_type": "code",
   "execution_count": 1,
   "metadata": {},
   "outputs": [],
   "source": [
    "import pickle\n",
    "import numpy as np\n",
    "import tensorflow as tf\n",
    "from tensorflow import ConfigProto\n",
    "from tensorflow import InteractiveSession\n",
    "\n",
    "config = ConfigProto()\n",
    "config.gpu_options.allow_growth = True\n",
    "sess = tf.Session(config=config)\n",
    "# Load pickled data\n",
    "with open('small_train_traffic.p', mode='rb') as f:\n",
    "    data = pickle.load(f)"
   ]
  },
  {
   "cell_type": "code",
   "execution_count": 2,
   "metadata": {},
   "outputs": [],
   "source": [
    "# Split the data\n",
    "X_train, y_train = data['features'], data['labels']"
   ]
  },
  {
   "cell_type": "code",
   "execution_count": 3,
   "metadata": {
    "tags": []
   },
   "outputs": [
    {
     "output_type": "stream",
     "name": "stderr",
     "text": "Using TensorFlow backend.\n"
    }
   ],
   "source": [
    "# Setup Keras\n",
    "from keras.models import Sequential\n",
    "from keras.layers.core import Dense, Activation, Flatten, Dropout\n",
    "from keras.layers.convolutional import Conv2D\n",
    "from keras.layers.pooling import MaxPooling2D"
   ]
  },
  {
   "cell_type": "code",
   "execution_count": 9,
   "metadata": {
    "tags": []
   },
   "outputs": [
    {
     "output_type": "stream",
     "name": "stdout",
     "text": "Model: \"sequential_2\"\n_________________________________________________________________\nLayer (type)                 Output Shape              Param #   \n=================================================================\nconv2d_2 (Conv2D)            (None, 30, 30, 32)        896       \n_________________________________________________________________\nmax_pooling2d_2 (MaxPooling2 (None, 15, 15, 32)        0         \n_________________________________________________________________\ndropout_2 (Dropout)          (None, 15, 15, 32)        0         \n_________________________________________________________________\nactivation_4 (Activation)    (None, 15, 15, 32)        0         \n_________________________________________________________________\nflatten_2 (Flatten)          (None, 7200)              0         \n_________________________________________________________________\ndense_3 (Dense)              (None, 256)               1843456   \n_________________________________________________________________\nactivation_5 (Activation)    (None, 256)               0         \n_________________________________________________________________\ndense_4 (Dense)              (None, 128)               32896     \n_________________________________________________________________\nactivation_6 (Activation)    (None, 128)               0         \n_________________________________________________________________\ndense_5 (Dense)              (None, 5)                 645       \n_________________________________________________________________\nactivation_7 (Activation)    (None, 5)                 0         \n=================================================================\nTotal params: 1,877,893\nTrainable params: 1,877,893\nNon-trainable params: 0\n_________________________________________________________________\n"
    }
   ],
   "source": [
    "# TODO: Build the Final Test Neural Network in Keras Here\n",
    "model = Sequential()\n",
    "model.add(Conv2D(32, (3, 3), input_shape=(32, 32, 3)))\n",
    "model.add(MaxPooling2D((2, 2)))\n",
    "model.add(Dropout(0.2))\n",
    "model.add(Activation('relu'))\n",
    "model.add(Flatten())\n",
    "model.add(Dense(256))\n",
    "model.add(Activation('relu'))\n",
    "model.add(Dense(128))\n",
    "model.add(Activation('relu'))\n",
    "model.add(Dense(5))\n",
    "model.add(Activation('softmax'))\n",
    "model.summary()\n"
   ]
  },
  {
   "cell_type": "code",
   "execution_count": 10,
   "metadata": {},
   "outputs": [],
   "source": [
    "# preprocess data\n",
    "X_normalized = np.array(X_train / 255.0 - 0.5 )\n",
    "\n",
    "from sklearn.preprocessing import LabelBinarizer\n",
    "label_binarizer = LabelBinarizer()\n",
    "y_one_hot = label_binarizer.fit_transform(y_train)"
   ]
  },
  {
   "cell_type": "code",
   "execution_count": 11,
   "metadata": {
    "tags": []
   },
   "outputs": [
    {
     "output_type": "stream",
     "name": "stdout",
     "text": "Train on 80 samples, validate on 20 samples\nEpoch 1/15\n80/80 [==============================] - 0s 3ms/step - loss: 1.3619 - accuracy: 0.3500 - val_loss: 0.7394 - val_accuracy: 0.7000\nEpoch 2/15\n80/80 [==============================] - 0s 375us/step - loss: 0.8691 - accuracy: 0.4875 - val_loss: 0.4913 - val_accuracy: 0.8000\nEpoch 3/15\n80/80 [==============================] - 0s 375us/step - loss: 0.5888 - accuracy: 0.7750 - val_loss: 0.3764 - val_accuracy: 0.8500\nEpoch 4/15\n80/80 [==============================] - 0s 388us/step - loss: 0.4793 - accuracy: 0.8000 - val_loss: 0.2651 - val_accuracy: 0.8500\nEpoch 5/15\n80/80 [==============================] - 0s 400us/step - loss: 0.3493 - accuracy: 0.8500 - val_loss: 0.2230 - val_accuracy: 0.8500\nEpoch 6/15\n80/80 [==============================] - 0s 375us/step - loss: 0.3010 - accuracy: 0.7750 - val_loss: 0.1956 - val_accuracy: 0.8500\nEpoch 7/15\n80/80 [==============================] - 0s 388us/step - loss: 0.2581 - accuracy: 0.8375 - val_loss: 0.1755 - val_accuracy: 0.9500\nEpoch 8/15\n80/80 [==============================] - 0s 375us/step - loss: 0.2480 - accuracy: 0.9125 - val_loss: 0.1655 - val_accuracy: 0.8500\nEpoch 9/15\n80/80 [==============================] - 0s 388us/step - loss: 0.2243 - accuracy: 0.8000 - val_loss: 0.1595 - val_accuracy: 0.8500\nEpoch 10/15\n80/80 [==============================] - 0s 363us/step - loss: 0.1956 - accuracy: 0.9500 - val_loss: 0.1592 - val_accuracy: 0.8500\nEpoch 11/15\n80/80 [==============================] - 0s 375us/step - loss: 0.2145 - accuracy: 0.8625 - val_loss: 0.1315 - val_accuracy: 1.0000\nEpoch 12/15\n80/80 [==============================] - 0s 350us/step - loss: 0.2124 - accuracy: 0.8375 - val_loss: 0.1090 - val_accuracy: 1.0000\nEpoch 13/15\n80/80 [==============================] - 0s 362us/step - loss: 0.1441 - accuracy: 1.0000 - val_loss: 0.1293 - val_accuracy: 0.9000\nEpoch 14/15\n80/80 [==============================] - 0s 387us/step - loss: 0.1769 - accuracy: 0.8875 - val_loss: 0.1014 - val_accuracy: 1.0000\nEpoch 15/15\n80/80 [==============================] - 0s 350us/step - loss: 0.1453 - accuracy: 0.9750 - val_loss: 0.0748 - val_accuracy: 1.0000\n"
    }
   ],
   "source": [
    "# compile and fit the model\n",
    "model.compile('adam', 'categorical_crossentropy', ['accuracy'])\n",
    "history = model.fit(X_normalized, y_one_hot, epochs=15, validation_split=0.2)"
   ]
  },
  {
   "cell_type": "code",
   "execution_count": 12,
   "metadata": {
    "tags": []
   },
   "outputs": [
    {
     "output_type": "stream",
     "name": "stdout",
     "text": "Testing\n20/20 [==============================] - 0s 150us/step\nloss: 0.13102927803993225\naccuracy: 1.0\n"
    }
   ],
   "source": [
    "# evaluate model against the test data\n",
    "with open('small_test_traffic.p', 'rb') as f:\n",
    "    data_test = pickle.load(f)\n",
    "\n",
    "X_test = data_test['features']\n",
    "y_test = data_test['labels']\n",
    "\n",
    "# preprocess data\n",
    "X_normalized_test = np.array(X_test / 255.0 - 0.5 )\n",
    "y_one_hot_test = label_binarizer.fit_transform(y_test)\n",
    "\n",
    "print(\"Testing\")\n",
    "\n",
    "metrics = model.evaluate(X_normalized_test, y_one_hot_test)\n",
    "for metric_i in range(len(model.metrics_names)):\n",
    "    metric_name = model.metrics_names[metric_i]\n",
    "    metric_value = metrics[metric_i]\n",
    "    print('{}: {}'.format(metric_name, metric_value))    "
   ]
  },
  {
   "cell_type": "code",
   "execution_count": 13,
   "metadata": {
    "tags": []
   },
   "outputs": [
    {
     "output_type": "stream",
     "name": "stdout",
     "text": "Nice, accuracy was 1.0\nGood Job, accuracy was above 90%\n\n"
    }
   ],
   "source": [
    "### DON'T MODIFY ANYTHING BELOW ###\n",
    "### Be sure to run all cells above before running this cell ###\n",
    "import grader\n",
    "\n",
    "try:\n",
    "    grader.run_grader(metrics)\n",
    "except Exception as err:\n",
    "    print(str(err))"
   ]
  },
  {
   "cell_type": "code",
   "execution_count": null,
   "metadata": {},
   "outputs": [],
   "source": []
  }
 ],
 "metadata": {
  "kernelspec": {
   "display_name": "Python 3",
   "language": "python",
   "name": "python3"
  },
  "language_info": {
   "codemirror_mode": {
    "name": "ipython",
    "version": 3
   },
   "file_extension": ".py",
   "mimetype": "text/x-python",
   "name": "python",
   "nbconvert_exporter": "python",
   "pygments_lexer": "ipython3",
   "version": "3.7.7-final"
  }
 },
 "nbformat": 4,
 "nbformat_minor": 2
}