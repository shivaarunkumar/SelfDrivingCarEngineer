{
 "cells": [
  {
   "cell_type": "code",
   "execution_count": 12,
   "metadata": {
    "collapsed": true
   },
   "outputs": [],
   "source": [
    "# Generic\n",
    "import os\n",
    "from pprint import pprint\n",
    "\n",
    "# File I/O\n",
    "from glob import glob\n",
    "import yaml\n",
    "import csv\n",
    "\n",
    "# Image Processing and Visualization\n",
    "import cv2\n",
    "import matplotlib.pyplot as plt\n",
    "import matplotlib.image as mpimg\n",
    "\n",
    "# Deep Learning\n",
    "import tensorflow as tf\n",
    "import pickle\n",
    "import pandas as pd\n",
    "import numpy as np\n",
    "from skimage.color import rgb2gray\n",
    "from sklearn import preprocessing\n",
    "from keras.applications.resnet50 import ResNet50\n",
    "from keras.models import Model\n",
    "from keras.layers import Input, Dense, Dropout\n",
    "\n",
    "# Set current directory to notebook directory.\n",
    "#os.chdir(os.path.dirname(os.path.abspath(__file__)))\n",
    "os.chdir(globals()['_dh'][0])\n",
    "\n",
    "# https://drive.google.com/file/d/0B-Eiyn-CUQtxdUZWMkFfQzdObUE/view\n",
    "# Curated by ex udacity student Vatsal Srivastava : https://becominghuman.ai/traffic-light-detection-tensorflow-api-c75fdbadac62\n",
    "# Useful References: http://wiki.ros.org/rosbag/Tutorials/Exporting%20image%20and%20video%20data\n",
    "\n",
    "simulator_image_path = os.path.join('data','sim_training_data')\n",
    "parkinglot_image_path = os.path.join('data','real_training_data')\n",
    "\n",
    "# https://hci.iwr.uni-heidelberg.de/content/bosch-small-traffic-lights-dataset\n",
    "bosch_image_path = os.path.join('data','dataset_train_rgb')\n",
    "\n",
    "# https://www.kaggle.com/mbornoe/lisa-traffic-light-dataset\n",
    "# Let's ignore this for now."
   ]
  },
  {
   "cell_type": "code",
   "execution_count": null,
   "outputs": [],
   "source": [
    "# Import images and Labels\n",
    "images =[]\n",
    "labels = [] # One hot encoded [red yellow green none]\n",
    "label_set = pd.DataFrame.from_dict({0:'red',1:'yellow',2:'green',3:'none'}, orient='index',columns=['Label'])\n",
    "n_classes = len(label_set)\n",
    "num_sim_red = num_sim_yellow = num_sim_green= num_sim_none = 0\n",
    "\n",
    "yaml_file = glob(os.path.join(simulator_image_path,'*.yaml'))\n",
    "for file in yaml_file:\n",
    "    with open(file, 'r') as f:\n",
    "        detection_data = f.read()\n",
    "        f.close()\n",
    "\n",
    "print('Simulator Images :: red : {} , yellow : {} , green : {} , none : {}', num_sim_red, num_sim_yellow, num_sim_green, num_sim_none)"
   ],
   "metadata": {
    "collapsed": false,
    "pycharm": {
     "name": "#%%\n"
    }
   }
  },
  {
   "cell_type": "code",
   "execution_count": 14,
   "outputs": [],
   "source": [],
   "metadata": {
    "collapsed": false,
    "pycharm": {
     "name": "#%%\n"
    }
   }
  }
 ],
 "metadata": {
  "kernelspec": {
   "display_name": "Python 3",
   "language": "python",
   "name": "python3"
  },
  "language_info": {
   "codemirror_mode": {
    "name": "ipython",
    "version": 2
   },
   "file_extension": ".py",
   "mimetype": "text/x-python",
   "name": "python",
   "nbconvert_exporter": "python",
   "pygments_lexer": "ipython2",
   "version": "2.7.6"
  }
 },
 "nbformat": 4,
 "nbformat_minor": 0
}